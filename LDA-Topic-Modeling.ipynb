{
  "nbformat": 4,
  "nbformat_minor": 0,
  "metadata": {
    "colab": {
      "provenance": [],
      "gpuType": "V28",
      "authorship_tag": "ABX9TyMDbeoe1g1rs2/31pla7YyJ",
      "include_colab_link": true
    },
    "kernelspec": {
      "name": "python3",
      "display_name": "Python 3"
    },
    "language_info": {
      "name": "python"
    },
    "accelerator": "TPU"
  },
  "cells": [
    {
      "cell_type": "markdown",
      "metadata": {
        "id": "view-in-github",
        "colab_type": "text"
      },
      "source": [
        "<a href=\"https://colab.research.google.com/github/Abhishek603124/LDA-Topic-Modeling/blob/main/LDA-Topic-Modeling.ipynb\" target=\"_parent\"><img src=\"https://colab.research.google.com/assets/colab-badge.svg\" alt=\"Open In Colab\"/></a>"
      ]
    },
    {
      "cell_type": "code",
      "execution_count": 2,
      "metadata": {
        "colab": {
          "base_uri": "https://localhost:8080/",
          "height": 800
        },
        "id": "YDjH5lqCJRSa",
        "outputId": "f7970912-52ff-431d-867e-b87d86de3425"
      },
      "outputs": [
        {
          "output_type": "stream",
          "name": "stdout",
          "text": [
            "\u001b[33mWARNING: Skipping gensim as it is not installed.\u001b[0m\u001b[33m\n",
            "\u001b[0mCollecting gensim==4.3.1\n",
            "  Downloading gensim-4.3.1-cp311-cp311-manylinux_2_17_x86_64.manylinux2014_x86_64.whl.metadata (8.4 kB)\n",
            "Collecting scipy==1.10.1\n",
            "  Downloading scipy-1.10.1-cp311-cp311-manylinux_2_17_x86_64.manylinux2014_x86_64.whl.metadata (58 kB)\n",
            "\u001b[2K     \u001b[90m━━━━━━━━━━━━━━━━━━━━━━━━━━━━━━━━━━━━━━━━\u001b[0m \u001b[32m58.9/58.9 kB\u001b[0m \u001b[31m2.0 MB/s\u001b[0m eta \u001b[36m0:00:00\u001b[0m\n",
            "\u001b[?25hCollecting numpy==1.23.5\n",
            "  Downloading numpy-1.23.5-cp311-cp311-manylinux_2_17_x86_64.manylinux2014_x86_64.whl.metadata (2.3 kB)\n",
            "Requirement already satisfied: smart-open>=1.8.1 in /usr/local/lib/python3.11/dist-packages (from gensim==4.3.1) (7.1.0)\n",
            "Requirement already satisfied: wrapt in /usr/local/lib/python3.11/dist-packages (from smart-open>=1.8.1->gensim==4.3.1) (1.17.2)\n",
            "Downloading gensim-4.3.1-cp311-cp311-manylinux_2_17_x86_64.manylinux2014_x86_64.whl (26.6 MB)\n",
            "\u001b[2K   \u001b[90m━━━━━━━━━━━━━━━━━━━━━━━━━━━━━━━━━━━━━━━━\u001b[0m \u001b[32m26.6/26.6 MB\u001b[0m \u001b[31m70.3 MB/s\u001b[0m eta \u001b[36m0:00:00\u001b[0m\n",
            "\u001b[?25hDownloading scipy-1.10.1-cp311-cp311-manylinux_2_17_x86_64.manylinux2014_x86_64.whl (34.1 MB)\n",
            "\u001b[2K   \u001b[90m━━━━━━━━━━━━━━━━━━━━━━━━━━━━━━━━━━━━━━━━\u001b[0m \u001b[32m34.1/34.1 MB\u001b[0m \u001b[31m47.1 MB/s\u001b[0m eta \u001b[36m0:00:00\u001b[0m\n",
            "\u001b[?25hDownloading numpy-1.23.5-cp311-cp311-manylinux_2_17_x86_64.manylinux2014_x86_64.whl (17.1 MB)\n",
            "\u001b[2K   \u001b[90m━━━━━━━━━━━━━━━━━━━━━━━━━━━━━━━━━━━━━━━━\u001b[0m \u001b[32m17.1/17.1 MB\u001b[0m \u001b[31m97.8 MB/s\u001b[0m eta \u001b[36m0:00:00\u001b[0m\n",
            "\u001b[?25hInstalling collected packages: numpy, scipy, gensim\n",
            "  Attempting uninstall: numpy\n",
            "    Found existing installation: numpy 2.0.2\n",
            "    Uninstalling numpy-2.0.2:\n",
            "      Successfully uninstalled numpy-2.0.2\n",
            "  Attempting uninstall: scipy\n",
            "    Found existing installation: scipy 1.15.3\n",
            "    Uninstalling scipy-1.15.3:\n",
            "      Successfully uninstalled scipy-1.15.3\n",
            "\u001b[31mERROR: pip's dependency resolver does not currently take into account all the packages that are installed. This behaviour is the source of the following dependency conflicts.\n",
            "scikit-image 0.25.2 requires numpy>=1.24, but you have numpy 1.23.5 which is incompatible.\n",
            "scikit-image 0.25.2 requires scipy>=1.11.4, but you have scipy 1.10.1 which is incompatible.\n",
            "treescope 0.1.9 requires numpy>=1.25.2, but you have numpy 1.23.5 which is incompatible.\n",
            "jaxlib 0.5.1 requires numpy>=1.25, but you have numpy 1.23.5 which is incompatible.\n",
            "jaxlib 0.5.1 requires scipy>=1.11.1, but you have scipy 1.10.1 which is incompatible.\n",
            "jax 0.5.2 requires numpy>=1.25, but you have numpy 1.23.5 which is incompatible.\n",
            "jax 0.5.2 requires scipy>=1.11.1, but you have scipy 1.10.1 which is incompatible.\n",
            "numba 0.61.2 requires numpy<2.3,>=1.24, but you have numpy 1.23.5 which is incompatible.\n",
            "thinc 8.3.6 requires numpy<3.0.0,>=2.0.0, but you have numpy 1.23.5 which is incompatible.\n",
            "chex 0.1.89 requires numpy>=1.24.1, but you have numpy 1.23.5 which is incompatible.\u001b[0m\u001b[31m\n",
            "\u001b[0mSuccessfully installed gensim-4.3.1 numpy-1.23.5 scipy-1.10.1\n"
          ]
        },
        {
          "output_type": "display_data",
          "data": {
            "application/vnd.colab-display-data+json": {
              "pip_warning": {
                "packages": [
                  "numpy"
                ]
              },
              "id": "909afdb4eec34576b0e5cb7fa82bbb24"
            }
          },
          "metadata": {}
        }
      ],
      "source": [
        "# Remove any previously installed gensim versions (optional)\n",
        "!pip uninstall -y gensim\n",
        "\n",
        "# Install a compatible version of gensim and numpy\n",
        "!pip install gensim==4.3.1 scipy==1.10.1 numpy==1.23.5\n"
      ]
    },
    {
      "cell_type": "code",
      "source": [
        "!pip install wordcloud"
      ],
      "metadata": {
        "colab": {
          "base_uri": "https://localhost:8080/",
          "height": 0
        },
        "id": "EwYLM_dYDQ6L",
        "outputId": "cfd13897-9a79-43ba-fa21-8db36d54d726"
      },
      "execution_count": 2,
      "outputs": [
        {
          "output_type": "stream",
          "name": "stdout",
          "text": [
            "Collecting wordcloud\n",
            "  Downloading wordcloud-1.9.4-cp311-cp311-manylinux_2_17_x86_64.manylinux2014_x86_64.whl.metadata (3.4 kB)\n",
            "Requirement already satisfied: numpy>=1.6.1 in /usr/local/lib/python3.11/dist-packages (from wordcloud) (1.23.5)\n",
            "Requirement already satisfied: pillow in /usr/local/lib/python3.11/dist-packages (from wordcloud) (11.2.1)\n",
            "Requirement already satisfied: matplotlib in /usr/local/lib/python3.11/dist-packages (from wordcloud) (3.10.0)\n",
            "Requirement already satisfied: contourpy>=1.0.1 in /usr/local/lib/python3.11/dist-packages (from matplotlib->wordcloud) (1.3.2)\n",
            "Requirement already satisfied: cycler>=0.10 in /usr/local/lib/python3.11/dist-packages (from matplotlib->wordcloud) (0.12.1)\n",
            "Requirement already satisfied: fonttools>=4.22.0 in /usr/local/lib/python3.11/dist-packages (from matplotlib->wordcloud) (4.57.0)\n",
            "Requirement already satisfied: kiwisolver>=1.3.1 in /usr/local/lib/python3.11/dist-packages (from matplotlib->wordcloud) (1.4.8)\n",
            "Requirement already satisfied: packaging>=20.0 in /usr/local/lib/python3.11/dist-packages (from matplotlib->wordcloud) (25.0)\n",
            "Requirement already satisfied: pyparsing>=2.3.1 in /usr/local/lib/python3.11/dist-packages (from matplotlib->wordcloud) (3.2.3)\n",
            "Requirement already satisfied: python-dateutil>=2.7 in /usr/local/lib/python3.11/dist-packages (from matplotlib->wordcloud) (2.9.0.post0)\n",
            "Requirement already satisfied: six>=1.5 in /usr/local/lib/python3.11/dist-packages (from python-dateutil>=2.7->matplotlib->wordcloud) (1.17.0)\n",
            "Downloading wordcloud-1.9.4-cp311-cp311-manylinux_2_17_x86_64.manylinux2014_x86_64.whl (547 kB)\n",
            "\u001b[?25l   \u001b[90m━━━━━━━━━━━━━━━━━━━━━━━━━━━━━━━━━━━━━━━━\u001b[0m \u001b[32m0.0/547.9 kB\u001b[0m \u001b[31m?\u001b[0m eta \u001b[36m-:--:--\u001b[0m\r\u001b[2K   \u001b[91m━━━━━━━━━━━\u001b[0m\u001b[90m╺\u001b[0m\u001b[90m━━━━━━━━━━━━━━━━━━━━━━━━━━━━\u001b[0m \u001b[32m153.6/547.9 kB\u001b[0m \u001b[31m4.5 MB/s\u001b[0m eta \u001b[36m0:00:01\u001b[0m\r\u001b[2K   \u001b[90m━━━━━━━━━━━━━━━━━━━━━━━━━━━━━━━━━━━━━━━━\u001b[0m \u001b[32m547.9/547.9 kB\u001b[0m \u001b[31m7.9 MB/s\u001b[0m eta \u001b[36m0:00:00\u001b[0m\n",
            "\u001b[?25hInstalling collected packages: wordcloud\n",
            "Successfully installed wordcloud-1.9.4\n"
          ]
        }
      ]
    },
    {
      "cell_type": "code",
      "source": [
        "import matplotlib.pyplot as plt\n",
        "import pandas as pd\n",
        "import random\n",
        "import spacy\n",
        "\n",
        "from gensim import models, corpora\n",
        "from gensim import similarities\n",
        "from gensim.models.coherencemodel import CoherenceModel\n",
        "from wordcloud import WordCloud"
      ],
      "metadata": {
        "id": "bWKqib3zAWAq"
      },
      "execution_count": 3,
      "outputs": []
    },
    {
      "cell_type": "markdown",
      "source": [
        "# First pass at building an LDA topic model for our corpus"
      ],
      "metadata": {
        "id": "0s9O93vHCjlh"
      }
    },
    {
      "cell_type": "markdown",
      "source": [
        "We'll use a corpus of over 90,000 CNN news articles originally compiled for training question answering models. I lightly processed them to remove some metadata and put them on Google Drive."
      ],
      "metadata": {
        "id": "TIJ83lgzCq8D"
      }
    },
    {
      "cell_type": "code",
      "source": [
        "# This code is a small trick to avoid annoying \"encoding errors\" when handling languages, emojis, or special characters\n",
        "# — especially in Colab or cloud notebooks.\n",
        "import locale\n",
        "def getpreferredencoding(do_setlocale = True):\n",
        "  return \"UTF-8\"\n",
        "locale.getpreferredencoding = getpreferredencoding"
      ],
      "metadata": {
        "id": "mKZId6WcAwtr"
      },
      "execution_count": 4,
      "outputs": []
    },
    {
      "cell_type": "code",
      "source": [
        "# It's very useful in Colab, where you might need to download large datasets or models stored in Google Drive.\n",
        "!pip install --upgrade --no-cache-dir gdown"
      ],
      "metadata": {
        "colab": {
          "base_uri": "https://localhost:8080/",
          "height": 0
        },
        "id": "-oenZ7QbDHmU",
        "outputId": "dd9d41d8-c48b-443a-ee13-9298ec8e2684"
      },
      "execution_count": 5,
      "outputs": [
        {
          "output_type": "stream",
          "name": "stdout",
          "text": [
            "Requirement already satisfied: gdown in /usr/local/lib/python3.11/dist-packages (5.2.0)\n",
            "Requirement already satisfied: beautifulsoup4 in /usr/local/lib/python3.11/dist-packages (from gdown) (4.13.4)\n",
            "Requirement already satisfied: filelock in /usr/local/lib/python3.11/dist-packages (from gdown) (3.18.0)\n",
            "Requirement already satisfied: requests[socks] in /usr/local/lib/python3.11/dist-packages (from gdown) (2.32.3)\n",
            "Requirement already satisfied: tqdm in /usr/local/lib/python3.11/dist-packages (from gdown) (4.67.1)\n",
            "Requirement already satisfied: soupsieve>1.2 in /usr/local/lib/python3.11/dist-packages (from beautifulsoup4->gdown) (2.7)\n",
            "Requirement already satisfied: typing-extensions>=4.0.0 in /usr/local/lib/python3.11/dist-packages (from beautifulsoup4->gdown) (4.13.2)\n",
            "Requirement already satisfied: charset-normalizer<4,>=2 in /usr/local/lib/python3.11/dist-packages (from requests[socks]->gdown) (3.4.2)\n",
            "Requirement already satisfied: idna<4,>=2.5 in /usr/local/lib/python3.11/dist-packages (from requests[socks]->gdown) (3.10)\n",
            "Requirement already satisfied: urllib3<3,>=1.21.1 in /usr/local/lib/python3.11/dist-packages (from requests[socks]->gdown) (2.4.0)\n",
            "Requirement already satisfied: certifi>=2017.4.17 in /usr/local/lib/python3.11/dist-packages (from requests[socks]->gdown) (2025.4.26)\n",
            "Requirement already satisfied: PySocks!=1.5.7,>=1.5.6 in /usr/local/lib/python3.11/dist-packages (from requests[socks]->gdown) (1.7.1)\n"
          ]
        }
      ]
    },
    {
      "cell_type": "code",
      "source": [
        "# Download the CNN corpus.\n",
        "!gdown 'https://drive.google.com/uc?id=122fC9XpNwFKx0ryRVKJz5MWUTzA3Vpsf'"
      ],
      "metadata": {
        "colab": {
          "base_uri": "https://localhost:8080/",
          "height": 0
        },
        "id": "hDBqMpoPD5vN",
        "outputId": "eb328b2e-4a9e-44f7-89c3-de373709190a"
      },
      "execution_count": 6,
      "outputs": [
        {
          "output_type": "stream",
          "name": "stdout",
          "text": [
            "Downloading...\n",
            "From (original): https://drive.google.com/uc?id=122fC9XpNwFKx0ryRVKJz5MWUTzA3Vpsf\n",
            "From (redirected): https://drive.google.com/uc?id=122fC9XpNwFKx0ryRVKJz5MWUTzA3Vpsf&confirm=t&uuid=069220b8-ed45-4ae9-9eb3-871bab9cd30b\n",
            "To: /content/cnn_articles.txt\n",
            "100% 365M/365M [00:03<00:00, 95.7MB/s]\n"
          ]
        }
      ]
    },
    {
      "cell_type": "markdown",
      "source": [
        "The corpus is one large text file with each article in the corpus separated by an @delimiter string. We'll split the articles and place them in a list."
      ],
      "metadata": {
        "id": "pVlwndGfElFx"
      }
    },
    {
      "cell_type": "code",
      "source": [
        "with open('cnn_articles.txt', 'r', encoding='utf8') as f:\n",
        "  articles = f.read().split('@delimiter')"
      ],
      "metadata": {
        "id": "bVFLKYolEZ2f"
      },
      "execution_count": 7,
      "outputs": []
    },
    {
      "cell_type": "code",
      "source": [
        "print(len(articles))\n",
        "print(articles[0])"
      ],
      "metadata": {
        "colab": {
          "base_uri": "https://localhost:8080/",
          "height": 0
        },
        "id": "sSwue9dREovG",
        "outputId": "196d69f3-b6da-485a-d95c-691cd2e5f7d3"
      },
      "execution_count": 8,
      "outputs": [
        {
          "output_type": "stream",
          "name": "stdout",
          "text": [
            "92579\n",
            " -- Children in war-ravaged Afghanistan are safer than those growing up in London or New York, NATO's top civilian envoy says.\n",
            "\n",
            "Mark Sedwill, the senior civilian representative for NATO, made the comments on an episode of CBBC's \"Newsround,\" which is airing Monday.\n",
            "\n",
            "In the show -- a BBC current-affairs program for children -- several youngsters in Kabul, Afghanistan, say they are afraid of daily violence and the frequent explosions in their war-torn country.\n",
            "\n",
            "In response, Sedwill says: \"Here in Kabul, and other big cities actually, there are very few of these bombs. The children are probably safer here than they would be in London, New York or Glasgow or many other cities.\n",
            "\n",
            "\"Most children can go about their lives in safety. It's a very family-oriented society. So it is a little bit like a city of villages,\" he added.\n",
            "\n",
            "A U.N. report released earlier this year seems to contradict Sedwill's assessment.\n",
            "\n",
            "The February report, by the special representative for children and armed conflict, says that children in Afghanistan are increasingly the victims of roadside attacks, crossfire between militants and international forces, and air strikes.\n",
            "\n",
            "In addition, they have been used as human shields and recruited as suicide bombers.\n",
            "\n",
            "The report also said boys are sexually abused and exploited by armed groups and girls schools have been burned down.\n",
            "\n",
            "Earlier this year, there was a rash of poisonings involving schoolgirls, and several instances of acid attacks have been reported.\n",
            "\n",
            "On Monday, Sedwill elaborated on what he meant in his remark.\n",
            "\n",
            "\"Any comment you have to clarify obviously wasn't very well put and the comparison I made with western cities distracted attention from the important point I was seeking to make,\" he said.\n",
            "\n",
            "\"I was trying to explain to an audience of British children how uneven violence is across Afghanistan. Half the insurgent violence takes place in 10 of the 365 districts, and, in those places, children are too often the victims of IEDs and other dangers. But, in cities like Kabul where security has improved, the total levels of violence, including criminal violence, are comparable to those which many western children would experience.\n",
            "\n",
            "\"For most Afghans, the biggest challenges are from poverty -- the absence of clean water, open sewers, malnutrition, disease -- and many more children are at risk from those problems than from the insurgency.\"\n",
            "\n",
            "\n",
            "\n"
          ]
        }
      ]
    },
    {
      "cell_type": "code",
      "source": [
        "dataset = articles[:20000]"
      ],
      "metadata": {
        "id": "iNriKTCKFZJo"
      },
      "execution_count": 9,
      "outputs": []
    },
    {
      "cell_type": "markdown",
      "source": [
        "We'll filter out punctuations, newlines, and any tokens containing non-alphabetic characters."
      ],
      "metadata": {
        "id": "NmzX91JoFpzQ"
      }
    },
    {
      "cell_type": "code",
      "source": [
        "nlp = spacy.blank('en')\n",
        "\n",
        "def basic_filter(tokenized_doc):\n",
        "  return [t.text for t in tokenized_doc if\n",
        "          not t.is_punct and \\\n",
        "          not t.is_space and \\\n",
        "          t.is_alpha]"
      ],
      "metadata": {
        "id": "0lpi0gsBFjB5"
      },
      "execution_count": 10,
      "outputs": []
    },
    {
      "cell_type": "markdown",
      "source": [
        "In this demo, we'll leverage spaCy's nlp.pipe function which can process a corpus as a batch (or a series of batches) and use multiple processes. Here, we'll process our dataset as a batch across multiple processes, then run the tokenized doc objects through the basic_filter function. You can adjust NUM_PROCESS as you wish."
      ],
      "metadata": {
        "id": "5PKni7xrI1Es"
      }
    },
    {
      "cell_type": "code",
      "source": [
        "NUM_PROCESS = 4"
      ],
      "metadata": {
        "id": "2DUGfYkCItsE"
      },
      "execution_count": 11,
      "outputs": []
    },
    {
      "cell_type": "code",
      "source": [
        "# this is a kind of pipeline to perform all the basic preprocessing step from the above function with n_process = no. of parallel processes done at one time\n",
        "tokenized_articles = list(map(basic_filter,nlp.pipe(dataset, n_process = NUM_PROCESS)))"
      ],
      "metadata": {
        "id": "l4oIrI2BKon8"
      },
      "execution_count": 12,
      "outputs": []
    },
    {
      "cell_type": "code",
      "source": [
        "print(tokenized_articles[0])"
      ],
      "metadata": {
        "colab": {
          "base_uri": "https://localhost:8080/",
          "height": 0
        },
        "id": "QG6Tfb4yLKCB",
        "outputId": "bea63469-9424-49a4-fe4d-19585513322c"
      },
      "execution_count": 20,
      "outputs": [
        {
          "output_type": "stream",
          "name": "stdout",
          "text": [
            "['Children', 'in', 'war', 'ravaged', 'Afghanistan', 'are', 'safer', 'than', 'those', 'growing', 'up', 'in', 'London', 'or', 'New', 'York', 'NATO', 'top', 'civilian', 'envoy', 'says', 'Mark', 'Sedwill', 'the', 'senior', 'civilian', 'representative', 'for', 'NATO', 'made', 'the', 'comments', 'on', 'an', 'episode', 'of', 'CBBC', 'Newsround', 'which', 'is', 'airing', 'Monday', 'In', 'the', 'show', 'a', 'BBC', 'current', 'affairs', 'program', 'for', 'children', 'several', 'youngsters', 'in', 'Kabul', 'Afghanistan', 'say', 'they', 'are', 'afraid', 'of', 'daily', 'violence', 'and', 'the', 'frequent', 'explosions', 'in', 'their', 'war', 'torn', 'country', 'In', 'response', 'Sedwill', 'says', 'Here', 'in', 'Kabul', 'and', 'other', 'big', 'cities', 'actually', 'there', 'are', 'very', 'few', 'of', 'these', 'bombs', 'The', 'children', 'are', 'probably', 'safer', 'here', 'than', 'they', 'would', 'be', 'in', 'London', 'New', 'York', 'or', 'Glasgow', 'or', 'many', 'other', 'cities', 'Most', 'children', 'can', 'go', 'about', 'their', 'lives', 'in', 'safety', 'It', 'a', 'very', 'family', 'oriented', 'society', 'So', 'it', 'is', 'a', 'little', 'bit', 'like', 'a', 'city', 'of', 'villages', 'he', 'added', 'A', 'report', 'released', 'earlier', 'this', 'year', 'seems', 'to', 'contradict', 'Sedwill', 'assessment', 'The', 'February', 'report', 'by', 'the', 'special', 'representative', 'for', 'children', 'and', 'armed', 'conflict', 'says', 'that', 'children', 'in', 'Afghanistan', 'are', 'increasingly', 'the', 'victims', 'of', 'roadside', 'attacks', 'crossfire', 'between', 'militants', 'and', 'international', 'forces', 'and', 'air', 'strikes', 'In', 'addition', 'they', 'have', 'been', 'used', 'as', 'human', 'shields', 'and', 'recruited', 'as', 'suicide', 'bombers', 'The', 'report', 'also', 'said', 'boys', 'are', 'sexually', 'abused', 'and', 'exploited', 'by', 'armed', 'groups', 'and', 'girls', 'schools', 'have', 'been', 'burned', 'down', 'Earlier', 'this', 'year', 'there', 'was', 'a', 'rash', 'of', 'poisonings', 'involving', 'schoolgirls', 'and', 'several', 'instances', 'of', 'acid', 'attacks', 'have', 'been', 'reported', 'On', 'Monday', 'Sedwill', 'elaborated', 'on', 'what', 'he', 'meant', 'in', 'his', 'remark', 'Any', 'comment', 'you', 'have', 'to', 'clarify', 'obviously', 'was', 'very', 'well', 'put', 'and', 'the', 'comparison', 'I', 'made', 'with', 'western', 'cities', 'distracted', 'attention', 'from', 'the', 'important', 'point', 'I', 'was', 'seeking', 'to', 'make', 'he', 'said', 'I', 'was', 'trying', 'to', 'explain', 'to', 'an', 'audience', 'of', 'British', 'children', 'how', 'uneven', 'violence', 'is', 'across', 'Afghanistan', 'Half', 'the', 'insurgent', 'violence', 'takes', 'place', 'in', 'of', 'the', 'districts', 'and', 'in', 'those', 'places', 'children', 'are', 'too', 'often', 'the', 'victims', 'of', 'IEDs', 'and', 'other', 'dangers', 'But', 'in', 'cities', 'like', 'Kabul', 'where', 'security', 'has', 'improved', 'the', 'total', 'levels', 'of', 'violence', 'including', 'criminal', 'violence', 'are', 'comparable', 'to', 'those', 'which', 'many', 'western', 'children', 'would', 'experience', 'For', 'most', 'Afghans', 'the', 'biggest', 'challenges', 'are', 'from', 'poverty', 'the', 'absence', 'of', 'clean', 'water', 'open', 'sewers', 'malnutrition', 'disease', 'and', 'many', 'more', 'children', 'are', 'at', 'risk', 'from', 'those', 'problems', 'than', 'from', 'the', 'insurgency']\n"
          ]
        }
      ]
    },
    {
      "cell_type": "markdown",
      "source": [
        "To start off, we'll go with 20 topics. With most topic models including LDA, there isn't a clear recipe on how to pick the optimal number of topics. The nature and composition of the data (e.g. average length of each document) has a major impact on how many topics are interpretable by a human. Often, it's best to go with something reasonable to begin with and then try different topic numbers.\n",
        "\n",
        "For this corpus, I'm going with 20 topics which is a small amount relative to the corpus size, but my reasoning is that since this is a general mainstream news corpus, the topics themselves are going to be fairly broad."
      ],
      "metadata": {
        "id": "_NUH1-fBVNaF"
      }
    },
    {
      "cell_type": "code",
      "source": [
        "NUM_TOPICS = 20"
      ],
      "metadata": {
        "id": "xtGBaBySMR-U"
      },
      "execution_count": 13,
      "outputs": []
    },
    {
      "cell_type": "markdown",
      "source": [
        "After tokenizing our text, the first step with Gensim is to construct a Dictionary mapping words to integer IDs."
      ],
      "metadata": {
        "id": "8hL-BYOIWUxK"
      }
    },
    {
      "cell_type": "code",
      "source": [
        "# build a dictionary of word<--->id mappings\n",
        "dictionary = corpora.Dictionary(tokenized_articles)\n",
        "sample_token = 'news'\n",
        "print(f'Id for \\'{sample_token}\\' token: {dictionary.token2id[sample_token]}')"
      ],
      "metadata": {
        "colab": {
          "base_uri": "https://localhost:8080/",
          "height": 0
        },
        "id": "fpfuq6XTVYD9",
        "outputId": "e7be4be4-16af-4feb-84cc-98c504e60823"
      },
      "execution_count": 14,
      "outputs": [
        {
          "output_type": "stream",
          "name": "stdout",
          "text": [
            "Id for 'news' token: 1039\n"
          ]
        }
      ]
    },
    {
      "cell_type": "markdown",
      "source": [
        "Builds a dictionary mapping each unique word in tokenized_articles to a unique ID.\n",
        "\n",
        "Retrieves and prints the ID assigned to the word 'news'."
      ],
      "metadata": {
        "id": "nXjLXnjBdAxX"
      }
    },
    {
      "cell_type": "code",
      "source": [
        "# it converts the list of words into bag of words i.e. assigns the count of unique ids i.e. how many time that word appeared like (word_id, frequency)\n",
        "corpus_bow = [dictionary.doc2bow(article) for article in tokenized_articles]"
      ],
      "metadata": {
        "id": "g7SIBIPcc-1j"
      },
      "execution_count": 15,
      "outputs": []
    },
    {
      "cell_type": "code",
      "source": [
        "\n",
        "lda_model = models.LdaModel(corpus=corpus_bow,\n",
        "                            id2word=dictionary,\n",
        "                            num_topics=NUM_TOPICS,\n",
        "                            random_state = 1)"
      ],
      "metadata": {
        "id": "FAn3sskKdYB4"
      },
      "execution_count": 16,
      "outputs": []
    },
    {
      "cell_type": "markdown",
      "source": [
        "Once our model is generated, we can view the topics inferred. By default, the model's print_topics method shows the top 20 topics and each topic's ten most significant words."
      ],
      "metadata": {
        "id": "Sxl5QMATe_1L"
      }
    },
    {
      "cell_type": "code",
      "source": [
        "lda_model.print_topics()"
      ],
      "metadata": {
        "colab": {
          "base_uri": "https://localhost:8080/",
          "height": 0
        },
        "id": "Ca7v4XA_eoLH",
        "outputId": "a78b087a-9aaa-4f87-e86b-56fb10c27805"
      },
      "execution_count": 17,
      "outputs": [
        {
          "output_type": "execute_result",
          "data": {
            "text/plain": [
              "[(0,\n",
              "  '0.068*\"the\" + 0.041*\"of\" + 0.027*\"and\" + 0.025*\"to\" + 0.025*\"in\" + 0.023*\"a\" + 0.013*\"is\" + 0.009*\"for\" + 0.008*\"that\" + 0.008*\"The\"'),\n",
              " (1,\n",
              "  '0.046*\"the\" + 0.031*\"I\" + 0.030*\"a\" + 0.028*\"to\" + 0.022*\"and\" + 0.019*\"in\" + 0.017*\"of\" + 0.012*\"was\" + 0.012*\"it\" + 0.012*\"that\"'),\n",
              " (2,\n",
              "  '0.064*\"the\" + 0.030*\"of\" + 0.025*\"to\" + 0.023*\"and\" + 0.020*\"in\" + 0.017*\"a\" + 0.011*\"that\" + 0.011*\"is\" + 0.009*\"Syria\" + 0.008*\"for\"'),\n",
              " (3,\n",
              "  '0.038*\"the\" + 0.032*\"to\" + 0.029*\"and\" + 0.029*\"of\" + 0.024*\"a\" + 0.017*\"that\" + 0.016*\"in\" + 0.013*\"is\" + 0.010*\"are\" + 0.009*\"for\"'),\n",
              " (4,\n",
              "  '0.069*\"the\" + 0.030*\"of\" + 0.029*\"to\" + 0.024*\"and\" + 0.021*\"in\" + 0.019*\"a\" + 0.015*\"said\" + 0.011*\"The\" + 0.010*\"that\" + 0.009*\"on\"'),\n",
              " (5,\n",
              "  '0.060*\"the\" + 0.031*\"in\" + 0.029*\"of\" + 0.028*\"to\" + 0.027*\"and\" + 0.021*\"a\" + 0.014*\"said\" + 0.011*\"that\" + 0.011*\"The\" + 0.008*\"is\"'),\n",
              " (6,\n",
              "  '0.054*\"the\" + 0.033*\"to\" + 0.030*\"of\" + 0.027*\"in\" + 0.026*\"and\" + 0.025*\"a\" + 0.012*\"said\" + 0.011*\"that\" + 0.009*\"The\" + 0.009*\"for\"'),\n",
              " (7,\n",
              "  '0.065*\"the\" + 0.028*\"to\" + 0.028*\"in\" + 0.027*\"of\" + 0.025*\"and\" + 0.018*\"a\" + 0.011*\"for\" + 0.010*\"said\" + 0.009*\"The\" + 0.008*\"that\"'),\n",
              " (8,\n",
              "  '0.062*\"the\" + 0.033*\"to\" + 0.026*\"of\" + 0.022*\"a\" + 0.020*\"and\" + 0.018*\"in\" + 0.015*\"that\" + 0.011*\"for\" + 0.010*\"is\" + 0.010*\"on\"'),\n",
              " (9,\n",
              "  '0.051*\"the\" + 0.029*\"and\" + 0.027*\"of\" + 0.025*\"to\" + 0.021*\"a\" + 0.018*\"in\" + 0.011*\"I\" + 0.010*\"for\" + 0.010*\"was\" + 0.010*\"that\"'),\n",
              " (10,\n",
              "  '0.055*\"the\" + 0.026*\"to\" + 0.022*\"of\" + 0.021*\"and\" + 0.021*\"in\" + 0.020*\"a\" + 0.014*\"for\" + 0.009*\"that\" + 0.009*\"is\" + 0.008*\"on\"'),\n",
              " (11,\n",
              "  '0.033*\"the\" + 0.024*\"News\" + 0.023*\"to\" + 0.023*\"a\" + 0.021*\"of\" + 0.021*\"CNN\" + 0.017*\"you\" + 0.017*\"Student\" + 0.013*\"and\" + 0.013*\"is\"'),\n",
              " (12,\n",
              "  '0.068*\"her\" + 0.054*\"she\" + 0.031*\"the\" + 0.030*\"to\" + 0.022*\"a\" + 0.020*\"said\" + 0.020*\"was\" + 0.018*\"and\" + 0.017*\"She\" + 0.015*\"of\"'),\n",
              " (13,\n",
              "  '0.058*\"the\" + 0.026*\"to\" + 0.026*\"and\" + 0.017*\"of\" + 0.016*\"in\" + 0.015*\"a\" + 0.011*\"is\" + 0.010*\"for\" + 0.007*\"The\" + 0.007*\"with\"'),\n",
              " (14,\n",
              "  '0.052*\"the\" + 0.029*\"to\" + 0.027*\"a\" + 0.027*\"and\" + 0.025*\"of\" + 0.016*\"in\" + 0.013*\"is\" + 0.011*\"for\" + 0.010*\"that\" + 0.009*\"on\"'),\n",
              " (15,\n",
              "  '0.001*\"the\" + 0.001*\"a\" + 0.001*\"to\" + 0.001*\"and\" + 0.000*\"of\" + 0.000*\"in\" + 0.000*\"that\" + 0.000*\"is\" + 0.000*\"he\" + 0.000*\"for\"'),\n",
              " (16,\n",
              "  '0.063*\"the\" + 0.030*\"in\" + 0.029*\"a\" + 0.026*\"to\" + 0.021*\"of\" + 0.017*\"and\" + 0.011*\"on\" + 0.011*\"with\" + 0.010*\"was\" + 0.009*\"for\"'),\n",
              " (17,\n",
              "  '0.057*\"the\" + 0.029*\"a\" + 0.024*\"and\" + 0.024*\"to\" + 0.022*\"said\" + 0.022*\"was\" + 0.021*\"of\" + 0.020*\"in\" + 0.014*\"he\" + 0.013*\"his\"'),\n",
              " (18,\n",
              "  '0.096*\"million\" + 0.017*\"weekend\" + 0.010*\"percent\" + 0.010*\"earned\" + 0.009*\"office\" + 0.009*\"total\" + 0.009*\"box\" + 0.008*\"film\" + 0.008*\"theaters\" + 0.008*\"the\"'),\n",
              " (19,\n",
              "  '0.041*\"the\" + 0.033*\"he\" + 0.030*\"to\" + 0.021*\"his\" + 0.021*\"a\" + 0.020*\"in\" + 0.020*\"that\" + 0.018*\"of\" + 0.016*\"and\" + 0.013*\"was\"')]"
            ]
          },
          "metadata": {},
          "execution_count": 17
        }
      ]
    },
    {
      "cell_type": "markdown",
      "source": [
        "#Improving preprocessing for better results.\n",
        "*For our next attempt, we'll*\n",
        "\n",
        "remove stop words using the default spaCy stopword list. Given this is a corpus of news articles, there may be other stop words to consider such as salutations (\"Mr\", \"Mrs\"), and words related to quotes and thoughts (\"say\", \"think\"). But for this, we'll stick to defaults unless we see reason to do otherwise.\n",
        "consider only the words the spaCy tagger flags as nouns, verbs, and adjectives. Including words with only certain POS tags is a common approach to improving topic models.\n",
        "take the lemma."
      ],
      "metadata": {
        "id": "pO0E9q2HfFHU"
      }
    },
    {
      "cell_type": "code",
      "source": [
        "nlp = spacy.load('en_core_web_sm', disable=['parser','ner'])\n",
        "\n",
        "def improved_filter(tokenized_doc):\n",
        "  return [t.lemma_ for t in tokenized_doc if\n",
        "          t.is_alpha and\\\n",
        "          not t.is_punct and \\\n",
        "          not t.is_space and \\\n",
        "          not t.is_stop and \\\n",
        "          t.pos_ in ['NOUN','VERB','ADJ']]"
      ],
      "metadata": {
        "id": "kj-eVIvMfCWb"
      },
      "execution_count": 18,
      "outputs": []
    },
    {
      "cell_type": "code",
      "source": [
        "# We'll need to retokenize everything and rebuild the BOWs. Because we're now\n",
        "# using the POS tagger, this will take longer. The \"w_pos\" in the variable\n",
        "# names below just means \"with part-of-speech\".\n",
        "tokenized_articles_w_pos = list(map(improved_filter, nlp.pipe(dataset, n_process=NUM_PROCESS)))\n",
        "dictionary_w_pos = corpora.Dictionary(tokenized_articles_w_pos)\n",
        "corpus_bow_w_pos = [dictionary_w_pos.doc2bow(article) for article in tokenized_articles_w_pos]"
      ],
      "metadata": {
        "id": "vLY1JPfvgHP7"
      },
      "execution_count": 19,
      "outputs": []
    },
    {
      "cell_type": "code",
      "source": [
        "lda_model = models.LdaModel(corpus=corpus_bow_w_pos, num_topics=NUM_TOPICS, id2word=dictionary_w_pos, random_state=1)"
      ],
      "metadata": {
        "id": "ABvK-4NJgMWF"
      },
      "execution_count": 20,
      "outputs": []
    },
    {
      "cell_type": "code",
      "source": [
        "lda_model.print_topics()"
      ],
      "metadata": {
        "colab": {
          "base_uri": "https://localhost:8080/",
          "height": 0
        },
        "id": "FzrtbNXxJt8o",
        "outputId": "91b7c939-00ac-4a47-ec1c-448cccb36187"
      },
      "execution_count": 21,
      "outputs": [
        {
          "output_type": "execute_result",
          "data": {
            "text/plain": [
              "[(0,\n",
              "  '0.016*\"country\" + 0.015*\"government\" + 0.014*\"say\" + 0.011*\"political\" + 0.010*\"election\" + 0.008*\"leader\" + 0.007*\"group\" + 0.007*\"state\" + 0.007*\"vote\" + 0.007*\"party\"'),\n",
              " (1,\n",
              "  '0.027*\"say\" + 0.010*\"water\" + 0.008*\"city\" + 0.008*\"people\" + 0.007*\"area\" + 0.006*\"year\" + 0.005*\"mile\" + 0.005*\"home\" + 0.004*\"foot\" + 0.004*\"day\"'),\n",
              " (2,\n",
              "  '0.020*\"say\" + 0.015*\"storm\" + 0.009*\"year\" + 0.009*\"car\" + 0.007*\"people\" + 0.007*\"report\" + 0.007*\"power\" + 0.006*\"state\" + 0.006*\"wind\" + 0.006*\"high\"'),\n",
              " (3,\n",
              "  '0.020*\"film\" + 0.019*\"say\" + 0.015*\"movie\" + 0.009*\"year\" + 0.009*\"church\" + 0.006*\"world\" + 0.006*\"star\" + 0.005*\"people\" + 0.004*\"day\" + 0.004*\"come\"'),\n",
              " (4,\n",
              "  '0.022*\"say\" + 0.021*\"israeli\" + 0.012*\"palestinian\" + 0.009*\"space\" + 0.009*\"british\" + 0.009*\"year\" + 0.009*\"visit\" + 0.008*\"royal\" + 0.007*\"peace\" + 0.007*\"diamond\"'),\n",
              " (5,\n",
              "  '0.057*\"say\" + 0.013*\"police\" + 0.012*\"report\" + 0.011*\"official\" + 0.010*\"government\" + 0.009*\"people\" + 0.009*\"attack\" + 0.009*\"kill\" + 0.008*\"authority\" + 0.007*\"tell\"'),\n",
              " (6,\n",
              "  '0.028*\"say\" + 0.009*\"president\" + 0.008*\"people\" + 0.008*\"year\" + 0.006*\"think\" + 0.006*\"go\" + 0.006*\"campaign\" + 0.005*\"vote\" + 0.005*\"tell\" + 0.005*\"candidate\"'),\n",
              " (7,\n",
              "  '0.026*\"flight\" + 0.024*\"plane\" + 0.023*\"say\" + 0.019*\"passenger\" + 0.013*\"airport\" + 0.013*\"airline\" + 0.013*\"crash\" + 0.012*\"pilot\" + 0.012*\"fly\" + 0.012*\"aircraft\"'),\n",
              " (8,\n",
              "  '0.014*\"people\" + 0.013*\"woman\" + 0.009*\"work\" + 0.009*\"world\" + 0.008*\"think\" + 0.007*\"time\" + 0.007*\"way\" + 0.006*\"change\" + 0.006*\"say\" + 0.006*\"life\"'),\n",
              " (9,\n",
              "  '0.018*\"win\" + 0.017*\"goal\" + 0.017*\"minute\" + 0.015*\"second\" + 0.013*\"point\" + 0.012*\"season\" + 0.011*\"team\" + 0.011*\"score\" + 0.010*\"game\" + 0.010*\"match\"'),\n",
              " (10,\n",
              "  '0.020*\"say\" + 0.016*\"company\" + 0.008*\"year\" + 0.008*\"oil\" + 0.006*\"new\" + 0.006*\"government\" + 0.006*\"need\" + 0.006*\"work\" + 0.006*\"pay\" + 0.006*\"cost\"'),\n",
              " (11,\n",
              "  '0.013*\"say\" + 0.009*\"new\" + 0.007*\"year\" + 0.006*\"phone\" + 0.006*\"music\" + 0.006*\"time\" + 0.006*\"people\" + 0.005*\"user\" + 0.005*\"video\" + 0.004*\"feature\"'),\n",
              " (12,\n",
              "  '0.042*\"say\" + 0.014*\"court\" + 0.013*\"case\" + 0.010*\"charge\" + 0.010*\"year\" + 0.008*\"report\" + 0.007*\"tell\" + 0.007*\"death\" + 0.007*\"attorney\" + 0.007*\"law\"'),\n",
              " (13,\n",
              "  '0.039*\"say\" + 0.016*\"police\" + 0.012*\"tell\" + 0.009*\"year\" + 0.008*\"man\" + 0.008*\"family\" + 0.007*\"find\" + 0.007*\"old\" + 0.007*\"go\" + 0.006*\"know\"'),\n",
              " (14,\n",
              "  '0.027*\"say\" + 0.015*\"people\" + 0.009*\"war\" + 0.009*\"help\" + 0.009*\"rebel\" + 0.009*\"country\" + 0.009*\"force\" + 0.008*\"aid\" + 0.008*\"military\" + 0.007*\"group\"'),\n",
              " (15,\n",
              "  '0.035*\"say\" + 0.017*\"military\" + 0.013*\"attack\" + 0.010*\"official\" + 0.010*\"weapon\" + 0.009*\"force\" + 0.008*\"nuclear\" + 0.008*\"troop\" + 0.008*\"war\" + 0.008*\"report\"'),\n",
              " (16,\n",
              "  '0.019*\"year\" + 0.014*\"win\" + 0.013*\"say\" + 0.011*\"play\" + 0.011*\"time\" + 0.010*\"team\" + 0.010*\"player\" + 0.009*\"world\" + 0.007*\"game\" + 0.007*\"good\"'),\n",
              " (17,\n",
              "  '0.024*\"say\" + 0.012*\"year\" + 0.011*\"know\" + 0.011*\"time\" + 0.010*\"family\" + 0.009*\"life\" + 0.009*\"go\" + 0.007*\"tell\" + 0.007*\"think\" + 0.007*\"child\"'),\n",
              " (18,\n",
              "  '0.032*\"say\" + 0.014*\"health\" + 0.009*\"patient\" + 0.009*\"doctor\" + 0.008*\"people\" + 0.007*\"year\" + 0.007*\"disease\" + 0.007*\"medical\" + 0.007*\"care\" + 0.007*\"study\"'),\n",
              " (19,\n",
              "  '0.030*\"school\" + 0.025*\"say\" + 0.024*\"student\" + 0.019*\"child\" + 0.011*\"woman\" + 0.009*\"law\" + 0.009*\"year\" + 0.009*\"girl\" + 0.008*\"gun\" + 0.007*\"parent\"')]"
            ]
          },
          "metadata": {},
          "execution_count": 21
        }
      ]
    },
    {
      "cell_type": "markdown",
      "source": [
        "# Trimming low- and high-frequency words.\n",
        "\n",
        "\n"
      ],
      "metadata": {
        "id": "5do2BgKeS-0d"
      }
    },
    {
      "cell_type": "code",
      "source": [
        "# The size of the dictionary before filtering.\n",
        "len(dictionary_w_pos)"
      ],
      "metadata": {
        "colab": {
          "base_uri": "https://localhost:8080/",
          "height": 0
        },
        "id": "3GfSKSq_M1Vv",
        "outputId": "16f065bd-da10-4c49-c538-ece53c978db7"
      },
      "execution_count": 22,
      "outputs": [
        {
          "output_type": "execute_result",
          "data": {
            "text/plain": [
              "39601"
            ]
          },
          "metadata": {},
          "execution_count": 22
        }
      ]
    },
    {
      "cell_type": "code",
      "source": [
        "# it checks the number of documents in which a word appears, not just the frequency of the word in each individual document.\n",
        "# It helps to filter out rare words (which may be typos or irrelevant) and overused words (which don't contribute meaningful distinctions between topics)\n",
        "dictionary_w_pos.filter_extremes(no_below=10,no_above=0.5)"
      ],
      "metadata": {
        "id": "miNXj-SLTZ0w"
      },
      "execution_count": 23,
      "outputs": []
    },
    {
      "cell_type": "code",
      "source": [
        "# The size of the dictionary after filtering.\n",
        "len(dictionary_w_pos)"
      ],
      "metadata": {
        "colab": {
          "base_uri": "https://localhost:8080/",
          "height": 0
        },
        "id": "16my4WloWGEj",
        "outputId": "de1b5dc4-17d2-4797-d7e9-9273bac1b58d"
      },
      "execution_count": 24,
      "outputs": [
        {
          "output_type": "execute_result",
          "data": {
            "text/plain": [
              "13802"
            ]
          },
          "metadata": {},
          "execution_count": 24
        }
      ]
    },
    {
      "cell_type": "code",
      "source": [
        "# Rebuild bag of words.\n",
        "corpus_bow_w_pos_filtered = [dictionary_w_pos.doc2bow(article) for article in tokenized_articles_w_pos]"
      ],
      "metadata": {
        "id": "6GzERJILWLg-"
      },
      "execution_count": 25,
      "outputs": []
    },
    {
      "cell_type": "markdown",
      "source": [
        "This time, we're passing additional arguments when building the model. alpha is the prior on the document-topic distribution, and eta is the prior on the topic-word distribution (this was beta in the slides), and passes is the number of complete passes through the corpus during training."
      ],
      "metadata": {
        "id": "Y13-tpoeWUOw"
      }
    },
    {
      "cell_type": "code",
      "source": [
        "lda_model = models.ldamodel.LdaModel(corpus=corpus_bow_w_pos_filtered,\n",
        "                                     id2word=dictionary_w_pos,\n",
        "                                     num_topics=NUM_TOPICS,\n",
        "                                     passes=10,\n",
        "                                     alpha='auto',\n",
        "                                     eta='auto',\n",
        "                                     random_state=1)"
      ],
      "metadata": {
        "id": "o7Nxq6dnWOmq"
      },
      "execution_count": 28,
      "outputs": []
    },
    {
      "cell_type": "code",
      "source": [
        "lda_model.print_topics()"
      ],
      "metadata": {
        "colab": {
          "base_uri": "https://localhost:8080/",
          "height": 0
        },
        "id": "gy-xeKLCWW8n",
        "outputId": "e8f1e84e-109a-4291-8750-db179fba03a2"
      },
      "execution_count": 29,
      "outputs": [
        {
          "output_type": "execute_result",
          "data": {
            "text/plain": [
              "[(0,\n",
              "  '0.018*\"country\" + 0.014*\"world\" + 0.008*\"nation\" + 0.007*\"korean\" + 0.007*\"church\" + 0.007*\"history\" + 0.007*\"american\" + 0.007*\"war\" + 0.007*\"leader\" + 0.006*\"visit\"'),\n",
              " (1,\n",
              "  '0.021*\"think\" + 0.017*\"go\" + 0.013*\"good\" + 0.013*\"know\" + 0.012*\"world\" + 0.011*\"want\" + 0.011*\"win\" + 0.011*\"get\" + 0.009*\"thing\" + 0.009*\"sport\"'),\n",
              " (2,\n",
              "  '0.016*\"company\" + 0.011*\"oil\" + 0.009*\"business\" + 0.008*\"money\" + 0.008*\"market\" + 0.008*\"country\" + 0.007*\"new\" + 0.007*\"world\" + 0.007*\"economic\" + 0.007*\"pay\"'),\n",
              " (3,\n",
              "  '0.025*\"flight\" + 0.024*\"plane\" + 0.019*\"ship\" + 0.019*\"passenger\" + 0.015*\"crash\" + 0.014*\"airport\" + 0.013*\"fly\" + 0.012*\"crew\" + 0.012*\"pilot\" + 0.012*\"airline\"'),\n",
              " (4,\n",
              "  '0.020*\"election\" + 0.017*\"political\" + 0.015*\"vote\" + 0.014*\"party\" + 0.014*\"president\" + 0.013*\"campaign\" + 0.011*\"candidate\" + 0.010*\"state\" + 0.009*\"presidential\" + 0.009*\"government\"'),\n",
              " (5,\n",
              "  '0.015*\"government\" + 0.013*\"official\" + 0.012*\"report\" + 0.009*\"law\" + 0.008*\"statement\" + 0.008*\"state\" + 0.008*\"issue\" + 0.007*\"nuclear\" + 0.006*\"right\" + 0.006*\"country\"'),\n",
              " (6,\n",
              "  '0.032*\"family\" + 0.030*\"child\" + 0.014*\"mother\" + 0.013*\"life\" + 0.013*\"old\" + 0.012*\"know\" + 0.011*\"son\" + 0.011*\"girl\" + 0.011*\"father\" + 0.010*\"parent\"'),\n",
              " (7,\n",
              "  '0.015*\"area\" + 0.013*\"report\" + 0.013*\"water\" + 0.013*\"storm\" + 0.010*\"city\" + 0.010*\"state\" + 0.009*\"accord\" + 0.009*\"home\" + 0.009*\"fire\" + 0.008*\"resident\"'),\n",
              " (8,\n",
              "  '0.010*\"film\" + 0.009*\"movie\" + 0.008*\"book\" + 0.007*\"star\" + 0.007*\"good\" + 0.006*\"music\" + 0.006*\"write\" + 0.006*\"know\" + 0.006*\"story\" + 0.006*\"play\"'),\n",
              " (9,\n",
              "  '0.020*\"military\" + 0.018*\"attack\" + 0.015*\"government\" + 0.014*\"force\" + 0.012*\"group\" + 0.011*\"kill\" + 0.010*\"official\" + 0.009*\"country\" + 0.009*\"security\" + 0.009*\"war\"'),\n",
              " (10,\n",
              "  '0.014*\"phone\" + 0.012*\"site\" + 0.012*\"company\" + 0.012*\"video\" + 0.011*\"user\" + 0.010*\"new\" + 0.009*\"internet\" + 0.009*\"post\" + 0.009*\"medium\" + 0.008*\"social\"'),\n",
              " (11,\n",
              "  '0.008*\"issue\" + 0.008*\"bill\" + 0.008*\"law\" + 0.007*\"right\" + 0.007*\"state\" + 0.007*\"health\" + 0.007*\"policy\" + 0.006*\"debate\" + 0.006*\"care\" + 0.006*\"think\"'),\n",
              " (12,\n",
              "  '0.034*\"race\" + 0.026*\"animal\" + 0.025*\"dog\" + 0.024*\"car\" + 0.020*\"driver\" + 0.016*\"horse\" + 0.015*\"water\" + 0.011*\"ride\" + 0.009*\"team\" + 0.008*\"drive\"'),\n",
              " (13,\n",
              "  '0.021*\"health\" + 0.015*\"doctor\" + 0.014*\"drug\" + 0.014*\"patient\" + 0.013*\"medical\" + 0.011*\"disease\" + 0.011*\"hospital\" + 0.009*\"care\" + 0.009*\"cancer\" + 0.009*\"case\"'),\n",
              " (14,\n",
              "  '0.022*\"court\" + 0.020*\"case\" + 0.018*\"charge\" + 0.011*\"attorney\" + 0.009*\"trial\" + 0.009*\"prison\" + 0.009*\"prosecutor\" + 0.009*\"sentence\" + 0.008*\"judge\" + 0.008*\"arrest\"'),\n",
              " (15,\n",
              "  '0.010*\"look\" + 0.009*\"thing\" + 0.008*\"get\" + 0.008*\"know\" + 0.008*\"think\" + 0.008*\"go\" + 0.008*\"day\" + 0.008*\"way\" + 0.008*\"find\" + 0.006*\"work\"'),\n",
              " (16,\n",
              "  '0.041*\"police\" + 0.015*\"officer\" + 0.013*\"authority\" + 0.013*\"man\" + 0.013*\"report\" + 0.012*\"kill\" + 0.010*\"arrest\" + 0.010*\"gun\" + 0.010*\"shoot\" + 0.009*\"accord\"'),\n",
              " (17,\n",
              "  '0.025*\"win\" + 0.021*\"player\" + 0.020*\"game\" + 0.017*\"play\" + 0.017*\"team\" + 0.016*\"match\" + 0.013*\"second\" + 0.013*\"season\" + 0.013*\"club\" + 0.012*\"minute\"'),\n",
              " (18,\n",
              "  '0.014*\"city\" + 0.008*\"hotel\" + 0.007*\"place\" + 0.007*\"travel\" + 0.006*\"local\" + 0.006*\"world\" + 0.006*\"room\" + 0.005*\"restaurant\" + 0.005*\"building\" + 0.005*\"visitor\"'),\n",
              " (19,\n",
              "  '0.023*\"school\" + 0.023*\"woman\" + 0.018*\"student\" + 0.015*\"work\" + 0.011*\"help\" + 0.008*\"young\" + 0.008*\"need\" + 0.007*\"job\" + 0.007*\"life\" + 0.007*\"community\"')]"
            ]
          },
          "metadata": {},
          "execution_count": 29
        }
      ]
    },
    {
      "cell_type": "markdown",
      "source": [
        "With improved filtering and low- and high-frequency words trimmed, we can see the topic-word distributions containing certain themes such as crime, travel, entertainment, etc."
      ],
      "metadata": {
        "id": "nCptKc0JXeKX"
      }
    },
    {
      "cell_type": "code",
      "source": [
        "print(lda_model.alpha)\n",
        "print(lda_model.eta)"
      ],
      "metadata": {
        "colab": {
          "base_uri": "https://localhost:8080/",
          "height": 0
        },
        "id": "eOmNOrEcXQfM",
        "outputId": "86ddb6b5-df95-4c6b-d720-ef7f0fa77603"
      },
      "execution_count": 31,
      "outputs": [
        {
          "output_type": "stream",
          "name": "stdout",
          "text": [
            "[0.09153689 0.10631368 0.09982678 0.05782061 0.07625443 0.13713677\n",
            " 0.12765585 0.0708163  0.13474113 0.09373292 0.07978228 0.09267671\n",
            " 0.04758471 0.06228654 0.09462486 0.12749858 0.09986711 0.06018009\n",
            " 0.08419022 0.10056212]\n",
            "[0.08991699 0.0638742  0.04840612 ... 0.03929042 0.03929042 0.03929042]\n"
          ]
        }
      ]
    },
    {
      "cell_type": "markdown",
      "source": [
        "We can look at the topic distribution comprising a given article using the model's get_document_topics method."
      ],
      "metadata": {
        "id": "mKOJSNakXmjX"
      }
    },
    {
      "cell_type": "code",
      "source": [
        "article_idx = 0\n",
        "print(dataset[article_idx][:300])"
      ],
      "metadata": {
        "colab": {
          "base_uri": "https://localhost:8080/",
          "height": 0
        },
        "id": "ErvJStfzXlCp",
        "outputId": "66c2e536-3b24-41fe-c06e-7aad5daba0f1"
      },
      "execution_count": 32,
      "outputs": [
        {
          "output_type": "stream",
          "name": "stdout",
          "text": [
            " -- Children in war-ravaged Afghanistan are safer than those growing up in London or New York, NATO's top civilian envoy says.\n",
            "\n",
            "Mark Sedwill, the senior civilian representative for NATO, made the comments on an episode of CBBC's \"Newsround,\" which is airing Monday.\n",
            "\n",
            "In the show -- a BBC current-affa\n"
          ]
        }
      ]
    },
    {
      "cell_type": "code",
      "source": [
        "# return topic distribution for an article sorted by probability.\n",
        "#  gives you a list of topics for that article from most dominant to least dominant based on the probability.\n",
        "topics = sorted(lda_model.get_document_topics(corpus_bow_w_pos_filtered[article_idx]), key = lambda tup : tup[1])[::-1]\n",
        "topics"
      ],
      "metadata": {
        "colab": {
          "base_uri": "https://localhost:8080/",
          "height": 0
        },
        "id": "qSfkEhyfcJFK",
        "outputId": "32219ab4-686a-497b-fb66-43d03210ceb7"
      },
      "execution_count": 34,
      "outputs": [
        {
          "output_type": "execute_result",
          "data": {
            "text/plain": [
              "[(9, 0.48490885),\n",
              " (6, 0.20118444),\n",
              " (19, 0.14771438),\n",
              " (13, 0.077252746),\n",
              " (7, 0.042535994),\n",
              " (8, 0.022521636),\n",
              " (18, 0.015828997)]"
            ]
          },
          "metadata": {},
          "execution_count": 34
        }
      ]
    },
    {
      "cell_type": "markdown",
      "source": [
        " To get the top words representing topic"
      ],
      "metadata": {
        "id": "c-aVwVnhengF"
      }
    },
    {
      "cell_type": "code",
      "source": [
        "# See the top words for the most dominant topic\n",
        "lda_model.show_topic(topics[0][0])"
      ],
      "metadata": {
        "colab": {
          "base_uri": "https://localhost:8080/",
          "height": 0
        },
        "id": "MSbXcQjQdHXI",
        "outputId": "01cd87cf-5148-4587-9585-1086c763aabe"
      },
      "execution_count": 35,
      "outputs": [
        {
          "output_type": "execute_result",
          "data": {
            "text/plain": [
              "[('military', 0.01951611),\n",
              " ('attack', 0.017634671),\n",
              " ('government', 0.014643469),\n",
              " ('force', 0.014076337),\n",
              " ('group', 0.012214274),\n",
              " ('kill', 0.010812059),\n",
              " ('official', 0.00985792),\n",
              " ('country', 0.008947157),\n",
              " ('security', 0.008664641),\n",
              " ('war', 0.008643991)]"
            ]
          },
          "metadata": {},
          "execution_count": 35
        }
      ]
    },
    {
      "cell_type": "code",
      "source": [
        "# View the words of the second-most prevalent topic from the previous article.\n",
        "lda_model.show_topic(topics[1][0])"
      ],
      "metadata": {
        "colab": {
          "base_uri": "https://localhost:8080/",
          "height": 0
        },
        "id": "OATZjPJpe-AQ",
        "outputId": "1b0144ac-1e4c-4d6f-f904-a0827ff0bee3"
      },
      "execution_count": 36,
      "outputs": [
        {
          "output_type": "execute_result",
          "data": {
            "text/plain": [
              "[('family', 0.032311738),\n",
              " ('child', 0.029841105),\n",
              " ('mother', 0.013546273),\n",
              " ('life', 0.013307522),\n",
              " ('old', 0.01305365),\n",
              " ('know', 0.012495292),\n",
              " ('son', 0.011130354),\n",
              " ('girl', 0.010982933),\n",
              " ('father', 0.010693691),\n",
              " ('parent', 0.010431822)]"
            ]
          },
          "metadata": {},
          "execution_count": 36
        }
      ]
    },
    {
      "cell_type": "markdown",
      "source": [
        "The function below takes a document index and returns a DataFrame containing:\n",
        "\n",
        "the topics comprising the document up to a minimum probability.\n",
        "the top words of each topic."
      ],
      "metadata": {
        "id": "me_VyynLg4aD"
      }
    },
    {
      "cell_type": "code",
      "source": [
        "def get_top_topics(article_idx, min_topic_prob):\n",
        "\n",
        "  # Sort from highest to lowest topic probability.\n",
        "  topic_prob_pairs = sorted(lda_model.get_document_topics(corpus_bow_w_pos_filtered[article_idx],\n",
        "                                                          minimum_probability=min_topic_prob),\n",
        "                            key=lambda tup: tup[1])[::-1]\n",
        "\n",
        "  word_prob_pairs = [lda_model.show_topic(pair[0]) for pair in topic_prob_pairs]\n",
        "  topic_words = [[pair[0] for pair in collection] for collection in word_prob_pairs]\n",
        "\n",
        "  data = {\n",
        "      'Major Topics': topic_prob_pairs,\n",
        "      'Topic Words': topic_words\n",
        "  }\n",
        "\n",
        "  return pd.DataFrame(data)\n"
      ],
      "metadata": {
        "id": "ethVA3z4fGUF"
      },
      "execution_count": 37,
      "outputs": []
    },
    {
      "cell_type": "code",
      "source": [
        "pd.set_option('max_colwidth', 600)\n",
        "snippet_length = 300\n",
        "min_topic_prob = 0.25\n",
        "\n",
        "article_idx = 1\n",
        "print(dataset[article_idx][:snippet_length])\n",
        "get_top_topics(article_idx, min_topic_prob)"
      ],
      "metadata": {
        "colab": {
          "base_uri": "https://localhost:8080/",
          "height": 239
        },
        "id": "2r2PecvIhZTm",
        "outputId": "55d7a3de-e75f-4703-8cf7-7d1522a082c3"
      },
      "execution_count": 38,
      "outputs": [
        {
          "output_type": "stream",
          "name": "stdout",
          "text": [
            "\n",
            " -- The Hard Rock Cafe franchise, famed for its rock'n'roll memorabilia, is expanding its reach into hotels and casinos -- but its chief executive says the brand will remain \"special.\"\n",
            "\n",
            "\"We don't want to be in every street corner, in every city of the UK,\" Hard Rock's Hamish Dodds told CNN.\n",
            "\n",
            "\"We wa\n"
          ]
        },
        {
          "output_type": "execute_result",
          "data": {
            "text/plain": [
              "       Major Topics  \\\n",
              "0  (18, 0.34388027)   \n",
              "1   (2, 0.31973666)   \n",
              "\n",
              "                                                                       Topic Words  \n",
              "0  [city, hotel, place, travel, local, world, room, restaurant, building, visitor]  \n",
              "1      [company, oil, business, money, market, country, new, world, economic, pay]  "
            ],
            "text/html": [
              "\n",
              "  <div id=\"df-340f76be-db4f-4e1c-ae79-32f95e8a63a2\" class=\"colab-df-container\">\n",
              "    <div>\n",
              "<style scoped>\n",
              "    .dataframe tbody tr th:only-of-type {\n",
              "        vertical-align: middle;\n",
              "    }\n",
              "\n",
              "    .dataframe tbody tr th {\n",
              "        vertical-align: top;\n",
              "    }\n",
              "\n",
              "    .dataframe thead th {\n",
              "        text-align: right;\n",
              "    }\n",
              "</style>\n",
              "<table border=\"1\" class=\"dataframe\">\n",
              "  <thead>\n",
              "    <tr style=\"text-align: right;\">\n",
              "      <th></th>\n",
              "      <th>Major Topics</th>\n",
              "      <th>Topic Words</th>\n",
              "    </tr>\n",
              "  </thead>\n",
              "  <tbody>\n",
              "    <tr>\n",
              "      <th>0</th>\n",
              "      <td>(18, 0.34388027)</td>\n",
              "      <td>[city, hotel, place, travel, local, world, room, restaurant, building, visitor]</td>\n",
              "    </tr>\n",
              "    <tr>\n",
              "      <th>1</th>\n",
              "      <td>(2, 0.31973666)</td>\n",
              "      <td>[company, oil, business, money, market, country, new, world, economic, pay]</td>\n",
              "    </tr>\n",
              "  </tbody>\n",
              "</table>\n",
              "</div>\n",
              "    <div class=\"colab-df-buttons\">\n",
              "\n",
              "  <div class=\"colab-df-container\">\n",
              "    <button class=\"colab-df-convert\" onclick=\"convertToInteractive('df-340f76be-db4f-4e1c-ae79-32f95e8a63a2')\"\n",
              "            title=\"Convert this dataframe to an interactive table.\"\n",
              "            style=\"display:none;\">\n",
              "\n",
              "  <svg xmlns=\"http://www.w3.org/2000/svg\" height=\"24px\" viewBox=\"0 -960 960 960\">\n",
              "    <path d=\"M120-120v-720h720v720H120Zm60-500h600v-160H180v160Zm220 220h160v-160H400v160Zm0 220h160v-160H400v160ZM180-400h160v-160H180v160Zm440 0h160v-160H620v160ZM180-180h160v-160H180v160Zm440 0h160v-160H620v160Z\"/>\n",
              "  </svg>\n",
              "    </button>\n",
              "\n",
              "  <style>\n",
              "    .colab-df-container {\n",
              "      display:flex;\n",
              "      gap: 12px;\n",
              "    }\n",
              "\n",
              "    .colab-df-convert {\n",
              "      background-color: #E8F0FE;\n",
              "      border: none;\n",
              "      border-radius: 50%;\n",
              "      cursor: pointer;\n",
              "      display: none;\n",
              "      fill: #1967D2;\n",
              "      height: 32px;\n",
              "      padding: 0 0 0 0;\n",
              "      width: 32px;\n",
              "    }\n",
              "\n",
              "    .colab-df-convert:hover {\n",
              "      background-color: #E2EBFA;\n",
              "      box-shadow: 0px 1px 2px rgba(60, 64, 67, 0.3), 0px 1px 3px 1px rgba(60, 64, 67, 0.15);\n",
              "      fill: #174EA6;\n",
              "    }\n",
              "\n",
              "    .colab-df-buttons div {\n",
              "      margin-bottom: 4px;\n",
              "    }\n",
              "\n",
              "    [theme=dark] .colab-df-convert {\n",
              "      background-color: #3B4455;\n",
              "      fill: #D2E3FC;\n",
              "    }\n",
              "\n",
              "    [theme=dark] .colab-df-convert:hover {\n",
              "      background-color: #434B5C;\n",
              "      box-shadow: 0px 1px 3px 1px rgba(0, 0, 0, 0.15);\n",
              "      filter: drop-shadow(0px 1px 2px rgba(0, 0, 0, 0.3));\n",
              "      fill: #FFFFFF;\n",
              "    }\n",
              "  </style>\n",
              "\n",
              "    <script>\n",
              "      const buttonEl =\n",
              "        document.querySelector('#df-340f76be-db4f-4e1c-ae79-32f95e8a63a2 button.colab-df-convert');\n",
              "      buttonEl.style.display =\n",
              "        google.colab.kernel.accessAllowed ? 'block' : 'none';\n",
              "\n",
              "      async function convertToInteractive(key) {\n",
              "        const element = document.querySelector('#df-340f76be-db4f-4e1c-ae79-32f95e8a63a2');\n",
              "        const dataTable =\n",
              "          await google.colab.kernel.invokeFunction('convertToInteractive',\n",
              "                                                    [key], {});\n",
              "        if (!dataTable) return;\n",
              "\n",
              "        const docLinkHtml = 'Like what you see? Visit the ' +\n",
              "          '<a target=\"_blank\" href=https://colab.research.google.com/notebooks/data_table.ipynb>data table notebook</a>'\n",
              "          + ' to learn more about interactive tables.';\n",
              "        element.innerHTML = '';\n",
              "        dataTable['output_type'] = 'display_data';\n",
              "        await google.colab.output.renderOutput(dataTable, element);\n",
              "        const docLink = document.createElement('div');\n",
              "        docLink.innerHTML = docLinkHtml;\n",
              "        element.appendChild(docLink);\n",
              "      }\n",
              "    </script>\n",
              "  </div>\n",
              "\n",
              "\n",
              "    <div id=\"df-9ace85ce-6507-431a-8c0f-f4a3fc2595ee\">\n",
              "      <button class=\"colab-df-quickchart\" onclick=\"quickchart('df-9ace85ce-6507-431a-8c0f-f4a3fc2595ee')\"\n",
              "                title=\"Suggest charts\"\n",
              "                style=\"display:none;\">\n",
              "\n",
              "<svg xmlns=\"http://www.w3.org/2000/svg\" height=\"24px\"viewBox=\"0 0 24 24\"\n",
              "     width=\"24px\">\n",
              "    <g>\n",
              "        <path d=\"M19 3H5c-1.1 0-2 .9-2 2v14c0 1.1.9 2 2 2h14c1.1 0 2-.9 2-2V5c0-1.1-.9-2-2-2zM9 17H7v-7h2v7zm4 0h-2V7h2v10zm4 0h-2v-4h2v4z\"/>\n",
              "    </g>\n",
              "</svg>\n",
              "      </button>\n",
              "\n",
              "<style>\n",
              "  .colab-df-quickchart {\n",
              "      --bg-color: #E8F0FE;\n",
              "      --fill-color: #1967D2;\n",
              "      --hover-bg-color: #E2EBFA;\n",
              "      --hover-fill-color: #174EA6;\n",
              "      --disabled-fill-color: #AAA;\n",
              "      --disabled-bg-color: #DDD;\n",
              "  }\n",
              "\n",
              "  [theme=dark] .colab-df-quickchart {\n",
              "      --bg-color: #3B4455;\n",
              "      --fill-color: #D2E3FC;\n",
              "      --hover-bg-color: #434B5C;\n",
              "      --hover-fill-color: #FFFFFF;\n",
              "      --disabled-bg-color: #3B4455;\n",
              "      --disabled-fill-color: #666;\n",
              "  }\n",
              "\n",
              "  .colab-df-quickchart {\n",
              "    background-color: var(--bg-color);\n",
              "    border: none;\n",
              "    border-radius: 50%;\n",
              "    cursor: pointer;\n",
              "    display: none;\n",
              "    fill: var(--fill-color);\n",
              "    height: 32px;\n",
              "    padding: 0;\n",
              "    width: 32px;\n",
              "  }\n",
              "\n",
              "  .colab-df-quickchart:hover {\n",
              "    background-color: var(--hover-bg-color);\n",
              "    box-shadow: 0 1px 2px rgba(60, 64, 67, 0.3), 0 1px 3px 1px rgba(60, 64, 67, 0.15);\n",
              "    fill: var(--button-hover-fill-color);\n",
              "  }\n",
              "\n",
              "  .colab-df-quickchart-complete:disabled,\n",
              "  .colab-df-quickchart-complete:disabled:hover {\n",
              "    background-color: var(--disabled-bg-color);\n",
              "    fill: var(--disabled-fill-color);\n",
              "    box-shadow: none;\n",
              "  }\n",
              "\n",
              "  .colab-df-spinner {\n",
              "    border: 2px solid var(--fill-color);\n",
              "    border-color: transparent;\n",
              "    border-bottom-color: var(--fill-color);\n",
              "    animation:\n",
              "      spin 1s steps(1) infinite;\n",
              "  }\n",
              "\n",
              "  @keyframes spin {\n",
              "    0% {\n",
              "      border-color: transparent;\n",
              "      border-bottom-color: var(--fill-color);\n",
              "      border-left-color: var(--fill-color);\n",
              "    }\n",
              "    20% {\n",
              "      border-color: transparent;\n",
              "      border-left-color: var(--fill-color);\n",
              "      border-top-color: var(--fill-color);\n",
              "    }\n",
              "    30% {\n",
              "      border-color: transparent;\n",
              "      border-left-color: var(--fill-color);\n",
              "      border-top-color: var(--fill-color);\n",
              "      border-right-color: var(--fill-color);\n",
              "    }\n",
              "    40% {\n",
              "      border-color: transparent;\n",
              "      border-right-color: var(--fill-color);\n",
              "      border-top-color: var(--fill-color);\n",
              "    }\n",
              "    60% {\n",
              "      border-color: transparent;\n",
              "      border-right-color: var(--fill-color);\n",
              "    }\n",
              "    80% {\n",
              "      border-color: transparent;\n",
              "      border-right-color: var(--fill-color);\n",
              "      border-bottom-color: var(--fill-color);\n",
              "    }\n",
              "    90% {\n",
              "      border-color: transparent;\n",
              "      border-bottom-color: var(--fill-color);\n",
              "    }\n",
              "  }\n",
              "</style>\n",
              "\n",
              "      <script>\n",
              "        async function quickchart(key) {\n",
              "          const quickchartButtonEl =\n",
              "            document.querySelector('#' + key + ' button');\n",
              "          quickchartButtonEl.disabled = true;  // To prevent multiple clicks.\n",
              "          quickchartButtonEl.classList.add('colab-df-spinner');\n",
              "          try {\n",
              "            const charts = await google.colab.kernel.invokeFunction(\n",
              "                'suggestCharts', [key], {});\n",
              "          } catch (error) {\n",
              "            console.error('Error during call to suggestCharts:', error);\n",
              "          }\n",
              "          quickchartButtonEl.classList.remove('colab-df-spinner');\n",
              "          quickchartButtonEl.classList.add('colab-df-quickchart-complete');\n",
              "        }\n",
              "        (() => {\n",
              "          let quickchartButtonEl =\n",
              "            document.querySelector('#df-9ace85ce-6507-431a-8c0f-f4a3fc2595ee button');\n",
              "          quickchartButtonEl.style.display =\n",
              "            google.colab.kernel.accessAllowed ? 'block' : 'none';\n",
              "        })();\n",
              "      </script>\n",
              "    </div>\n",
              "\n",
              "    </div>\n",
              "  </div>\n"
            ],
            "application/vnd.google.colaboratory.intrinsic+json": {
              "type": "dataframe",
              "summary": "{\n  \"name\": \"get_top_topics(article_idx, min_topic_prob)\",\n  \"rows\": 2,\n  \"fields\": [\n    {\n      \"column\": \"Major Topics\",\n      \"properties\": {\n        \"dtype\": \"string\",\n        \"num_unique_values\": 2,\n        \"samples\": [\n          [\n            2,\n            \"0.31973666\"\n          ],\n          [\n            18,\n            \"0.34388027\"\n          ]\n        ],\n        \"semantic_type\": \"\",\n        \"description\": \"\"\n      }\n    },\n    {\n      \"column\": \"Topic Words\",\n      \"properties\": {\n        \"dtype\": \"object\",\n        \"semantic_type\": \"\",\n        \"description\": \"\"\n      }\n    }\n  ]\n}"
            }
          },
          "metadata": {},
          "execution_count": 38
        }
      ]
    },
    {
      "cell_type": "code",
      "source": [
        "article_idx = 10\n",
        "print(dataset[article_idx][:snippet_length])\n",
        "get_top_topics(article_idx, min_topic_prob)"
      ],
      "metadata": {
        "colab": {
          "base_uri": "https://localhost:8080/",
          "height": 172
        },
        "id": "eXXUjo4mhcDs",
        "outputId": "edb16496-c372-4598-e5ed-77d2acbaedbb"
      },
      "execution_count": 39,
      "outputs": [
        {
          "output_type": "stream",
          "name": "stdout",
          "text": [
            "\n",
            " -- The House Republican leadership upped the ante Thursday in the ongoing debate over the size and scope of the federal budget, unveiling a proposal to cut spending by $375 billion over the next five years.\n",
            "\n",
            "House GOP Minority Whip Eric Cantor has been an outspoken critic of Democratic budget prop\n"
          ]
        },
        {
          "output_type": "execute_result",
          "data": {
            "text/plain": [
              "     Major Topics  \\\n",
              "0  (11, 0.590642)   \n",
              "\n",
              "                                                             Topic Words  \n",
              "0  [issue, bill, law, right, state, health, policy, debate, care, think]  "
            ],
            "text/html": [
              "\n",
              "  <div id=\"df-9ebb7bf9-3682-4c00-b5d9-b107b90d47f4\" class=\"colab-df-container\">\n",
              "    <div>\n",
              "<style scoped>\n",
              "    .dataframe tbody tr th:only-of-type {\n",
              "        vertical-align: middle;\n",
              "    }\n",
              "\n",
              "    .dataframe tbody tr th {\n",
              "        vertical-align: top;\n",
              "    }\n",
              "\n",
              "    .dataframe thead th {\n",
              "        text-align: right;\n",
              "    }\n",
              "</style>\n",
              "<table border=\"1\" class=\"dataframe\">\n",
              "  <thead>\n",
              "    <tr style=\"text-align: right;\">\n",
              "      <th></th>\n",
              "      <th>Major Topics</th>\n",
              "      <th>Topic Words</th>\n",
              "    </tr>\n",
              "  </thead>\n",
              "  <tbody>\n",
              "    <tr>\n",
              "      <th>0</th>\n",
              "      <td>(11, 0.590642)</td>\n",
              "      <td>[issue, bill, law, right, state, health, policy, debate, care, think]</td>\n",
              "    </tr>\n",
              "  </tbody>\n",
              "</table>\n",
              "</div>\n",
              "    <div class=\"colab-df-buttons\">\n",
              "\n",
              "  <div class=\"colab-df-container\">\n",
              "    <button class=\"colab-df-convert\" onclick=\"convertToInteractive('df-9ebb7bf9-3682-4c00-b5d9-b107b90d47f4')\"\n",
              "            title=\"Convert this dataframe to an interactive table.\"\n",
              "            style=\"display:none;\">\n",
              "\n",
              "  <svg xmlns=\"http://www.w3.org/2000/svg\" height=\"24px\" viewBox=\"0 -960 960 960\">\n",
              "    <path d=\"M120-120v-720h720v720H120Zm60-500h600v-160H180v160Zm220 220h160v-160H400v160Zm0 220h160v-160H400v160ZM180-400h160v-160H180v160Zm440 0h160v-160H620v160ZM180-180h160v-160H180v160Zm440 0h160v-160H620v160Z\"/>\n",
              "  </svg>\n",
              "    </button>\n",
              "\n",
              "  <style>\n",
              "    .colab-df-container {\n",
              "      display:flex;\n",
              "      gap: 12px;\n",
              "    }\n",
              "\n",
              "    .colab-df-convert {\n",
              "      background-color: #E8F0FE;\n",
              "      border: none;\n",
              "      border-radius: 50%;\n",
              "      cursor: pointer;\n",
              "      display: none;\n",
              "      fill: #1967D2;\n",
              "      height: 32px;\n",
              "      padding: 0 0 0 0;\n",
              "      width: 32px;\n",
              "    }\n",
              "\n",
              "    .colab-df-convert:hover {\n",
              "      background-color: #E2EBFA;\n",
              "      box-shadow: 0px 1px 2px rgba(60, 64, 67, 0.3), 0px 1px 3px 1px rgba(60, 64, 67, 0.15);\n",
              "      fill: #174EA6;\n",
              "    }\n",
              "\n",
              "    .colab-df-buttons div {\n",
              "      margin-bottom: 4px;\n",
              "    }\n",
              "\n",
              "    [theme=dark] .colab-df-convert {\n",
              "      background-color: #3B4455;\n",
              "      fill: #D2E3FC;\n",
              "    }\n",
              "\n",
              "    [theme=dark] .colab-df-convert:hover {\n",
              "      background-color: #434B5C;\n",
              "      box-shadow: 0px 1px 3px 1px rgba(0, 0, 0, 0.15);\n",
              "      filter: drop-shadow(0px 1px 2px rgba(0, 0, 0, 0.3));\n",
              "      fill: #FFFFFF;\n",
              "    }\n",
              "  </style>\n",
              "\n",
              "    <script>\n",
              "      const buttonEl =\n",
              "        document.querySelector('#df-9ebb7bf9-3682-4c00-b5d9-b107b90d47f4 button.colab-df-convert');\n",
              "      buttonEl.style.display =\n",
              "        google.colab.kernel.accessAllowed ? 'block' : 'none';\n",
              "\n",
              "      async function convertToInteractive(key) {\n",
              "        const element = document.querySelector('#df-9ebb7bf9-3682-4c00-b5d9-b107b90d47f4');\n",
              "        const dataTable =\n",
              "          await google.colab.kernel.invokeFunction('convertToInteractive',\n",
              "                                                    [key], {});\n",
              "        if (!dataTable) return;\n",
              "\n",
              "        const docLinkHtml = 'Like what you see? Visit the ' +\n",
              "          '<a target=\"_blank\" href=https://colab.research.google.com/notebooks/data_table.ipynb>data table notebook</a>'\n",
              "          + ' to learn more about interactive tables.';\n",
              "        element.innerHTML = '';\n",
              "        dataTable['output_type'] = 'display_data';\n",
              "        await google.colab.output.renderOutput(dataTable, element);\n",
              "        const docLink = document.createElement('div');\n",
              "        docLink.innerHTML = docLinkHtml;\n",
              "        element.appendChild(docLink);\n",
              "      }\n",
              "    </script>\n",
              "  </div>\n",
              "\n",
              "\n",
              "    </div>\n",
              "  </div>\n"
            ],
            "application/vnd.google.colaboratory.intrinsic+json": {
              "type": "dataframe",
              "summary": "{\n  \"name\": \"get_top_topics(article_idx, min_topic_prob)\",\n  \"rows\": 1,\n  \"fields\": [\n    {\n      \"column\": \"Major Topics\",\n      \"properties\": {\n        \"dtype\": \"string\",\n        \"num_unique_values\": 1,\n        \"samples\": [\n          [\n            11,\n            \"0.590642\"\n          ]\n        ],\n        \"semantic_type\": \"\",\n        \"description\": \"\"\n      }\n    },\n    {\n      \"column\": \"Topic Words\",\n      \"properties\": {\n        \"dtype\": \"object\",\n        \"semantic_type\": \"\",\n        \"description\": \"\"\n      }\n    }\n  ]\n}"
            }
          },
          "metadata": {},
          "execution_count": 39
        }
      ]
    },
    {
      "cell_type": "code",
      "source": [
        "article_idx = 100\n",
        "print(dataset[article_idx][:snippet_length])\n",
        "get_top_topics(article_idx, min_topic_prob)"
      ],
      "metadata": {
        "colab": {
          "base_uri": "https://localhost:8080/",
          "height": 188
        },
        "id": "bmeA_fYekeST",
        "outputId": "455b9e03-6f88-41b7-a5bd-5c6ccd806869"
      },
      "execution_count": 40,
      "outputs": [
        {
          "output_type": "stream",
          "name": "stdout",
          "text": [
            "\n",
            " -- A tip led to Wednesday's arrest in Louisiana of a suspected serial bank robber dubbed the \"Granddad Bandit,\" federal authorities said.\n",
            "\n",
            "Michael Francis Mara, 52, was captured at his home in Baton Rouge, FBI Special Agent Sheila Thorne told CNN.\n",
            "\n",
            "The FBI went to the residence to execute an arres\n"
          ]
        },
        {
          "output_type": "execute_result",
          "data": {
            "text/plain": [
              "      Major Topics  \\\n",
              "0  (16, 0.5208886)   \n",
              "\n",
              "                                                                   Topic Words  \n",
              "0  [police, officer, authority, man, report, kill, arrest, gun, shoot, accord]  "
            ],
            "text/html": [
              "\n",
              "  <div id=\"df-59639471-76da-4c95-b160-fb58c3878239\" class=\"colab-df-container\">\n",
              "    <div>\n",
              "<style scoped>\n",
              "    .dataframe tbody tr th:only-of-type {\n",
              "        vertical-align: middle;\n",
              "    }\n",
              "\n",
              "    .dataframe tbody tr th {\n",
              "        vertical-align: top;\n",
              "    }\n",
              "\n",
              "    .dataframe thead th {\n",
              "        text-align: right;\n",
              "    }\n",
              "</style>\n",
              "<table border=\"1\" class=\"dataframe\">\n",
              "  <thead>\n",
              "    <tr style=\"text-align: right;\">\n",
              "      <th></th>\n",
              "      <th>Major Topics</th>\n",
              "      <th>Topic Words</th>\n",
              "    </tr>\n",
              "  </thead>\n",
              "  <tbody>\n",
              "    <tr>\n",
              "      <th>0</th>\n",
              "      <td>(16, 0.5208886)</td>\n",
              "      <td>[police, officer, authority, man, report, kill, arrest, gun, shoot, accord]</td>\n",
              "    </tr>\n",
              "  </tbody>\n",
              "</table>\n",
              "</div>\n",
              "    <div class=\"colab-df-buttons\">\n",
              "\n",
              "  <div class=\"colab-df-container\">\n",
              "    <button class=\"colab-df-convert\" onclick=\"convertToInteractive('df-59639471-76da-4c95-b160-fb58c3878239')\"\n",
              "            title=\"Convert this dataframe to an interactive table.\"\n",
              "            style=\"display:none;\">\n",
              "\n",
              "  <svg xmlns=\"http://www.w3.org/2000/svg\" height=\"24px\" viewBox=\"0 -960 960 960\">\n",
              "    <path d=\"M120-120v-720h720v720H120Zm60-500h600v-160H180v160Zm220 220h160v-160H400v160Zm0 220h160v-160H400v160ZM180-400h160v-160H180v160Zm440 0h160v-160H620v160ZM180-180h160v-160H180v160Zm440 0h160v-160H620v160Z\"/>\n",
              "  </svg>\n",
              "    </button>\n",
              "\n",
              "  <style>\n",
              "    .colab-df-container {\n",
              "      display:flex;\n",
              "      gap: 12px;\n",
              "    }\n",
              "\n",
              "    .colab-df-convert {\n",
              "      background-color: #E8F0FE;\n",
              "      border: none;\n",
              "      border-radius: 50%;\n",
              "      cursor: pointer;\n",
              "      display: none;\n",
              "      fill: #1967D2;\n",
              "      height: 32px;\n",
              "      padding: 0 0 0 0;\n",
              "      width: 32px;\n",
              "    }\n",
              "\n",
              "    .colab-df-convert:hover {\n",
              "      background-color: #E2EBFA;\n",
              "      box-shadow: 0px 1px 2px rgba(60, 64, 67, 0.3), 0px 1px 3px 1px rgba(60, 64, 67, 0.15);\n",
              "      fill: #174EA6;\n",
              "    }\n",
              "\n",
              "    .colab-df-buttons div {\n",
              "      margin-bottom: 4px;\n",
              "    }\n",
              "\n",
              "    [theme=dark] .colab-df-convert {\n",
              "      background-color: #3B4455;\n",
              "      fill: #D2E3FC;\n",
              "    }\n",
              "\n",
              "    [theme=dark] .colab-df-convert:hover {\n",
              "      background-color: #434B5C;\n",
              "      box-shadow: 0px 1px 3px 1px rgba(0, 0, 0, 0.15);\n",
              "      filter: drop-shadow(0px 1px 2px rgba(0, 0, 0, 0.3));\n",
              "      fill: #FFFFFF;\n",
              "    }\n",
              "  </style>\n",
              "\n",
              "    <script>\n",
              "      const buttonEl =\n",
              "        document.querySelector('#df-59639471-76da-4c95-b160-fb58c3878239 button.colab-df-convert');\n",
              "      buttonEl.style.display =\n",
              "        google.colab.kernel.accessAllowed ? 'block' : 'none';\n",
              "\n",
              "      async function convertToInteractive(key) {\n",
              "        const element = document.querySelector('#df-59639471-76da-4c95-b160-fb58c3878239');\n",
              "        const dataTable =\n",
              "          await google.colab.kernel.invokeFunction('convertToInteractive',\n",
              "                                                    [key], {});\n",
              "        if (!dataTable) return;\n",
              "\n",
              "        const docLinkHtml = 'Like what you see? Visit the ' +\n",
              "          '<a target=\"_blank\" href=https://colab.research.google.com/notebooks/data_table.ipynb>data table notebook</a>'\n",
              "          + ' to learn more about interactive tables.';\n",
              "        element.innerHTML = '';\n",
              "        dataTable['output_type'] = 'display_data';\n",
              "        await google.colab.output.renderOutput(dataTable, element);\n",
              "        const docLink = document.createElement('div');\n",
              "        docLink.innerHTML = docLinkHtml;\n",
              "        element.appendChild(docLink);\n",
              "      }\n",
              "    </script>\n",
              "  </div>\n",
              "\n",
              "\n",
              "    </div>\n",
              "  </div>\n"
            ],
            "application/vnd.google.colaboratory.intrinsic+json": {
              "type": "dataframe",
              "summary": "{\n  \"name\": \"get_top_topics(article_idx, min_topic_prob)\",\n  \"rows\": 1,\n  \"fields\": [\n    {\n      \"column\": \"Major Topics\",\n      \"properties\": {\n        \"dtype\": \"string\",\n        \"num_unique_values\": 1,\n        \"samples\": [\n          [\n            16,\n            \"0.5208886\"\n          ]\n        ],\n        \"semantic_type\": \"\",\n        \"description\": \"\"\n      }\n    },\n    {\n      \"column\": \"Topic Words\",\n      \"properties\": {\n        \"dtype\": \"object\",\n        \"semantic_type\": \"\",\n        \"description\": \"\"\n      }\n    }\n  ]\n}"
            }
          },
          "metadata": {},
          "execution_count": 40
        }
      ]
    },
    {
      "cell_type": "code",
      "source": [
        "article_idx = 1000\n",
        "print(dataset[article_idx][:snippet_length])\n",
        "get_top_topics(article_idx, min_topic_prob)"
      ],
      "metadata": {
        "colab": {
          "base_uri": "https://localhost:8080/",
          "height": 208
        },
        "id": "1WFNpY54kg2y",
        "outputId": "af78ee38-1a03-4c19-d0d8-559c814bb5d3"
      },
      "execution_count": 41,
      "outputs": [
        {
          "output_type": "stream",
          "name": "stdout",
          "text": [
            "\n",
            " -- Desperate times call for desperate measures.\n",
            "\n",
            "After a humbling League Cup defeat at the hands of lowly Sunderland, and with the reigning English champions a distant seventh in the Premier League table, Manchester United have broken the bank to bring in Juan Mata from Chelsea.\n",
            "\n",
            "A club record fee\n"
          ]
        },
        {
          "output_type": "execute_result",
          "data": {
            "text/plain": [
              "       Major Topics  \\\n",
              "0  (17, 0.66084397)   \n",
              "\n",
              "                                                            Topic Words  \n",
              "0  [win, player, game, play, team, match, second, season, club, minute]  "
            ],
            "text/html": [
              "\n",
              "  <div id=\"df-5ced8f5d-e4bb-4fa1-9b42-451e12df5da0\" class=\"colab-df-container\">\n",
              "    <div>\n",
              "<style scoped>\n",
              "    .dataframe tbody tr th:only-of-type {\n",
              "        vertical-align: middle;\n",
              "    }\n",
              "\n",
              "    .dataframe tbody tr th {\n",
              "        vertical-align: top;\n",
              "    }\n",
              "\n",
              "    .dataframe thead th {\n",
              "        text-align: right;\n",
              "    }\n",
              "</style>\n",
              "<table border=\"1\" class=\"dataframe\">\n",
              "  <thead>\n",
              "    <tr style=\"text-align: right;\">\n",
              "      <th></th>\n",
              "      <th>Major Topics</th>\n",
              "      <th>Topic Words</th>\n",
              "    </tr>\n",
              "  </thead>\n",
              "  <tbody>\n",
              "    <tr>\n",
              "      <th>0</th>\n",
              "      <td>(17, 0.66084397)</td>\n",
              "      <td>[win, player, game, play, team, match, second, season, club, minute]</td>\n",
              "    </tr>\n",
              "  </tbody>\n",
              "</table>\n",
              "</div>\n",
              "    <div class=\"colab-df-buttons\">\n",
              "\n",
              "  <div class=\"colab-df-container\">\n",
              "    <button class=\"colab-df-convert\" onclick=\"convertToInteractive('df-5ced8f5d-e4bb-4fa1-9b42-451e12df5da0')\"\n",
              "            title=\"Convert this dataframe to an interactive table.\"\n",
              "            style=\"display:none;\">\n",
              "\n",
              "  <svg xmlns=\"http://www.w3.org/2000/svg\" height=\"24px\" viewBox=\"0 -960 960 960\">\n",
              "    <path d=\"M120-120v-720h720v720H120Zm60-500h600v-160H180v160Zm220 220h160v-160H400v160Zm0 220h160v-160H400v160ZM180-400h160v-160H180v160Zm440 0h160v-160H620v160ZM180-180h160v-160H180v160Zm440 0h160v-160H620v160Z\"/>\n",
              "  </svg>\n",
              "    </button>\n",
              "\n",
              "  <style>\n",
              "    .colab-df-container {\n",
              "      display:flex;\n",
              "      gap: 12px;\n",
              "    }\n",
              "\n",
              "    .colab-df-convert {\n",
              "      background-color: #E8F0FE;\n",
              "      border: none;\n",
              "      border-radius: 50%;\n",
              "      cursor: pointer;\n",
              "      display: none;\n",
              "      fill: #1967D2;\n",
              "      height: 32px;\n",
              "      padding: 0 0 0 0;\n",
              "      width: 32px;\n",
              "    }\n",
              "\n",
              "    .colab-df-convert:hover {\n",
              "      background-color: #E2EBFA;\n",
              "      box-shadow: 0px 1px 2px rgba(60, 64, 67, 0.3), 0px 1px 3px 1px rgba(60, 64, 67, 0.15);\n",
              "      fill: #174EA6;\n",
              "    }\n",
              "\n",
              "    .colab-df-buttons div {\n",
              "      margin-bottom: 4px;\n",
              "    }\n",
              "\n",
              "    [theme=dark] .colab-df-convert {\n",
              "      background-color: #3B4455;\n",
              "      fill: #D2E3FC;\n",
              "    }\n",
              "\n",
              "    [theme=dark] .colab-df-convert:hover {\n",
              "      background-color: #434B5C;\n",
              "      box-shadow: 0px 1px 3px 1px rgba(0, 0, 0, 0.15);\n",
              "      filter: drop-shadow(0px 1px 2px rgba(0, 0, 0, 0.3));\n",
              "      fill: #FFFFFF;\n",
              "    }\n",
              "  </style>\n",
              "\n",
              "    <script>\n",
              "      const buttonEl =\n",
              "        document.querySelector('#df-5ced8f5d-e4bb-4fa1-9b42-451e12df5da0 button.colab-df-convert');\n",
              "      buttonEl.style.display =\n",
              "        google.colab.kernel.accessAllowed ? 'block' : 'none';\n",
              "\n",
              "      async function convertToInteractive(key) {\n",
              "        const element = document.querySelector('#df-5ced8f5d-e4bb-4fa1-9b42-451e12df5da0');\n",
              "        const dataTable =\n",
              "          await google.colab.kernel.invokeFunction('convertToInteractive',\n",
              "                                                    [key], {});\n",
              "        if (!dataTable) return;\n",
              "\n",
              "        const docLinkHtml = 'Like what you see? Visit the ' +\n",
              "          '<a target=\"_blank\" href=https://colab.research.google.com/notebooks/data_table.ipynb>data table notebook</a>'\n",
              "          + ' to learn more about interactive tables.';\n",
              "        element.innerHTML = '';\n",
              "        dataTable['output_type'] = 'display_data';\n",
              "        await google.colab.output.renderOutput(dataTable, element);\n",
              "        const docLink = document.createElement('div');\n",
              "        docLink.innerHTML = docLinkHtml;\n",
              "        element.appendChild(docLink);\n",
              "      }\n",
              "    </script>\n",
              "  </div>\n",
              "\n",
              "\n",
              "    </div>\n",
              "  </div>\n"
            ],
            "application/vnd.google.colaboratory.intrinsic+json": {
              "type": "dataframe",
              "summary": "{\n  \"name\": \"get_top_topics(article_idx, min_topic_prob)\",\n  \"rows\": 1,\n  \"fields\": [\n    {\n      \"column\": \"Major Topics\",\n      \"properties\": {\n        \"dtype\": \"string\",\n        \"num_unique_values\": 1,\n        \"samples\": [\n          [\n            17,\n            \"0.66084397\"\n          ]\n        ],\n        \"semantic_type\": \"\",\n        \"description\": \"\"\n      }\n    },\n    {\n      \"column\": \"Topic Words\",\n      \"properties\": {\n        \"dtype\": \"object\",\n        \"semantic_type\": \"\",\n        \"description\": \"\"\n      }\n    }\n  ]\n}"
            }
          },
          "metadata": {},
          "execution_count": 41
        }
      ]
    },
    {
      "cell_type": "markdown",
      "source": [
        "The results of this model look the best so far and we can see a human-interpretable link between the distribution of topics in a document, the distribution of words in each topic, and the content of the document itself."
      ],
      "metadata": {
        "id": "bh4HwPPgkoQC"
      }
    },
    {
      "cell_type": "markdown",
      "source": [
        "# Evaluation and Visualization"
      ],
      "metadata": {
        "id": "9iJdKWYrkt-Z"
      }
    },
    {
      "cell_type": "markdown",
      "source": [
        "# Measuring topic models with coherence.\n",
        "If a topic is a mixture of particular words, then one way to measure how semantically coherent a topic is to calculate co-occurrence among the words. That is, how often the top words in a topic co-occur together among the documents versus how often they occur independently.\n",
        "\n",
        "Gensim's Coherence Model offers coherence implemented as a pipeline:"
      ],
      "metadata": {
        "id": "L4iMiAWTkx_8"
      }
    },
    {
      "cell_type": "code",
      "source": [
        "coherence_model_lda = CoherenceModel(model=lda_model, texts=tokenized_articles_w_pos, dictionary=dictionary_w_pos, coherence='u_mass')\n",
        "coherence_lda = coherence_model_lda.get_coherence()\n",
        "print('\\nCoherence Score: ', coherence_lda)"
      ],
      "metadata": {
        "colab": {
          "base_uri": "https://localhost:8080/",
          "height": 0
        },
        "id": "7ge8HVBjkmg9",
        "outputId": "1e771a20-4e27-4bac-dded-32f23100c921"
      },
      "execution_count": 42,
      "outputs": [
        {
          "output_type": "stream",
          "name": "stdout",
          "text": [
            "\n",
            "Coherence Score:  -1.5878381133644321\n"
          ]
        }
      ]
    },
    {
      "cell_type": "code",
      "source": [],
      "metadata": {
        "id": "vJgB5Pemk9T9"
      },
      "execution_count": null,
      "outputs": []
    }
  ]
}